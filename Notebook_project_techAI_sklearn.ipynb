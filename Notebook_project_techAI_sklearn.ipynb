{
 "cells": [
  {
   "cell_type": "markdown",
   "metadata": {},
   "source": [
    "# Techniques of Artificial Intelligence\n",
    "## Project - Sentiment Analysis on an imdb dataset\n",
    "### Gaspard BERNARD \n",
    "### Adrien HANS"
   ]
  },
  {
   "cell_type": "markdown",
   "metadata": {},
   "source": [
    "### Import of the wanted libraries : "
   ]
  },
  {
   "cell_type": "code",
   "execution_count": 1,
   "metadata": {
    "collapsed": true
   },
   "outputs": [],
   "source": [
    "from sklearn.feature_extraction.text import CountVectorizer\n",
    "from sklearn.model_selection import train_test_split\n",
    "import re\n",
    "import pandas as pd\n",
    "import numpy as numpy\n",
    "from sklearn.base import BaseEstimator, ClassifierMixin\n",
    "from sklearn.utils.validation import check_X_y, check_array\n",
    "from sklearn.preprocessing import LabelBinarizer\n",
    "from sklearn.feature_extraction.text import TfidfVectorizer\n",
    "#from sklearn.metrics import accuracy_scores\n",
    "import scipy\n",
    "\n",
    "\n",
    "#Plotting : \n",
    "import matplotlib.pyplot as plt"
   ]
  },
  {
   "cell_type": "markdown",
   "metadata": {},
   "source": [
    "### Preprocessing : \n",
    "* #### Listing trainning and testing sets"
   ]
  },
  {
   "cell_type": "code",
   "execution_count": 2,
   "metadata": {
    "collapsed": true
   },
   "outputs": [],
   "source": [
    "reviews_train = []\n",
    "for line in open('movie_data/full_train.txt', 'r', encoding=\"utf8\"):\n",
    "    \n",
    "    reviews_train.append(line.strip())\n",
    "    \n",
    "reviews_test = []\n",
    "for line in open('movie_data/full_test.txt', 'r', encoding=\"utf8\"):\n",
    "    \n",
    "    reviews_test.append(line.strip())"
   ]
  },
  {
   "cell_type": "markdown",
   "metadata": {},
   "source": [
    "*Affichage d'une critique avant Clean* :"
   ]
  },
  {
   "cell_type": "code",
   "execution_count": 3,
   "metadata": {},
   "outputs": [
    {
     "name": "stdout",
     "output_type": "stream",
     "text": [
      "I saw this film in a sneak preview, and it is delightful. The cinematography is unusually creative, the acting is good, and the story is fabulous. If this movie does not do well, it won't be because it doesn't deserve to. Before this film, I didn't realize how charming Shia Lebouf could be. He does a marvelous, self-contained, job as the lead. There's something incredibly sweet about him, and it makes the movie even better. The other actors do a good job as well, and the film contains moments of really high suspense, more than one might expect from a movie about golf. Sports movies are a dime a dozen, but this one stands out. <br /><br />This is one I'd recommend to anyone.\n"
     ]
    }
   ],
   "source": [
    "print(reviews_test[3])"
   ]
  },
  {
   "cell_type": "markdown",
   "metadata": {},
   "source": [
    "* #### Removing unwanted characters : "
   ]
  },
  {
   "cell_type": "code",
   "execution_count": 4,
   "metadata": {
    "collapsed": true
   },
   "outputs": [],
   "source": [
    "REPLACE_NO_SPACE = re.compile(\"(\\.)|(\\;)|(\\:)|(\\!)|(\\')|(\\?)|(\\,)|(\\\")|(\\()|(\\))|(\\[)|(\\])|(\\d+)\")\n",
    "REPLACE_WITH_SPACE = re.compile(\"(<br\\s*/><br\\s*/>)|(\\-)|(\\/)\")\n",
    "NO_SPACE = \"\"\n",
    "SPACE = \" \"\n",
    "\n",
    "def preprocess_reviews(reviews):\n",
    "    \n",
    "    reviews = [REPLACE_NO_SPACE.sub(NO_SPACE, line.lower()) for line in reviews]\n",
    "    reviews = [REPLACE_WITH_SPACE.sub(SPACE, line) for line in reviews]\n",
    "    \n",
    "    return reviews\n",
    "\n",
    "reviews_train_clean = preprocess_reviews(reviews_train)\n",
    "reviews_test_clean = preprocess_reviews(reviews_test)"
   ]
  },
  {
   "cell_type": "markdown",
   "metadata": {},
   "source": [
    "*Affichage de la même critique après clean* : "
   ]
  },
  {
   "cell_type": "code",
   "execution_count": 5,
   "metadata": {},
   "outputs": [
    {
     "name": "stdout",
     "output_type": "stream",
     "text": [
      "i saw this film in a sneak preview and it is delightful the cinematography is unusually creative the acting is good and the story is fabulous if this movie does not do well it wont be because it doesnt deserve to before this film i didnt realize how charming shia lebouf could be he does a marvelous self contained job as the lead theres something incredibly sweet about him and it makes the movie even better the other actors do a good job as well and the film contains moments of really high suspense more than one might expect from a movie about golf sports movies are a dime a dozen but this one stands out  this is one id recommend to anyone\n"
     ]
    }
   ],
   "source": [
    "print(reviews_test_clean[3])"
   ]
  },
  {
   "cell_type": "markdown",
   "metadata": {},
   "source": [
    "* #### Vectorizing the training set :"
   ]
  },
  {
   "cell_type": "code",
   "execution_count": 6,
   "metadata": {
    "collapsed": true
   },
   "outputs": [],
   "source": [
    "from sklearn.feature_extraction.text import CountVectorizer\n",
    "\n",
    "cv = CountVectorizer(lowercase=True, binary=True)\n",
    "\n",
    "cv.fit(reviews_train_clean)\n",
    "X = cv.transform(reviews_train_clean)"
   ]
  },
  {
   "cell_type": "markdown",
   "metadata": {},
   "source": [
    "* #### Vectorizing the final test set :\n",
    "# !!!!  (non utilisé pour l'instant)"
   ]
  },
  {
   "cell_type": "code",
   "execution_count": 7,
   "metadata": {
    "collapsed": true
   },
   "outputs": [],
   "source": [
    "X_test_final = cv.transform(reviews_test_clean)"
   ]
  },
  {
   "cell_type": "markdown",
   "metadata": {},
   "source": [
    "* #### Organizing the data :"
   ]
  },
  {
   "cell_type": "code",
   "execution_count": 8,
   "metadata": {
    "collapsed": true
   },
   "outputs": [],
   "source": [
    "target = [1 if i < 12500 else 0 for i in range(25000)]\n",
    "# Definition of X_train et y_train : \n",
    "X_train, X_test, y_train, y_test = train_test_split(\n",
    "    X, target, test_size = 0.2\n",
    ")"
   ]
  },
  {
   "cell_type": "markdown",
   "metadata": {},
   "source": [
    "# Functions : "
   ]
  },
  {
   "cell_type": "code",
   "execution_count": 9,
   "metadata": {
    "collapsed": true
   },
   "outputs": [],
   "source": [
    "def sigmoid(x):\n",
    "    #return 1/(1 + numpy.exp(-x))\n",
    "    \n",
    "    #Expit is the logistic function : https://docs.scipy.org/doc/scipy-0.14.0/reference/generated/scipy.special.expit.html\n",
    "    return scipy.special.expit(x)\n",
    "\n",
    "def sigmoid_derivative(x):\n",
    "    return x * (1 - x)\n",
    "\n",
    "\n",
    "def classif(x):\n",
    "    return 1 * (x > 0.5)\n",
    "\n",
    "def relu(x):\n",
    "    return x * (x > 0)\n",
    "\n",
    "def relu_derivative(x):\n",
    "    return 1. * (x > 0)"
   ]
  },
  {
   "cell_type": "markdown",
   "metadata": {},
   "source": [
    "## Neural Network : "
   ]
  },
  {
   "cell_type": "markdown",
   "metadata": {},
   "source": [
    "* ### Initialisation des paramètres : "
   ]
  },
  {
   "cell_type": "code",
   "execution_count": 19,
   "metadata": {
    "collapsed": true
   },
   "outputs": [],
   "source": [
    "x=X_train\n",
    "n1,n2=x.shape\n",
    "binarizer_ = LabelBinarizer().fit(y_train)\n",
    "y = binarizer_.transform(y_train)\n",
    "yy = binarizer_.transform(y_test)\n",
    "\n",
    "#On établit un nombre max d'epochs et de neurones dans la couche cachée : \n",
    "N_Epoch_Max = 50\n",
    "N_neurones_Max = 50\n",
    "\n",
    "#Nbr min : \n",
    "N_Epoch_Min = 10\n",
    "N_neurones_Min = 40\n",
    "\n",
    "# Step : \n",
    "Step_Epoch = 10\n",
    "Step_neurones = 10\n"
   ]
  },
  {
   "cell_type": "markdown",
   "metadata": {},
   "source": [
    "* ### Entrainement et validation : "
   ]
  },
  {
   "cell_type": "code",
   "execution_count": null,
   "metadata": {},
   "outputs": [
    {
     "name": "stdout",
     "output_type": "stream",
     "text": [
      "Error :  0.462  nbr epochs :  10  nbr_neurones :  40\n",
      "Error :  0.3066  nbr epochs :  20  nbr_neurones :  40\n"
     ]
    }
   ],
   "source": [
    "#Boucle sur le nombre de neurones : \n",
    "\n",
    "for nbr_neurones in range(N_neurones_Min, N_neurones_Max, Step_neurones): \n",
    "    w1 = numpy.random.randn(n2,nbr_neurones)\n",
    "    w2 = numpy.random.randn(nbr_neurones,1)\n",
    "    dw1 = numpy.random.randn(n2,nbr_neurones)\n",
    "    dw2 = numpy.random.randn(nbr_neurones,1)\n",
    "    l2 = 0\n",
    "    \n",
    "    #Initializing the L_nbr_epochs :\n",
    "    L_nbr_epochs=[]\n",
    "    L_Error=[]\n",
    "    \n",
    "    for nbr_epochs in range(N_Epoch_Min, N_Epoch_Max, Step_Epoch): \n",
    "        \n",
    "        for k in range(nbr_epochs):\n",
    "            #feedforward pour les couches l1 et l2 (relu l1 et sigmoid l2)\n",
    "            l1 = relu(x.dot(w1))\n",
    "            l2 = sigmoid(l1.dot(w2))\n",
    "\n",
    "\n",
    "            #backprop\n",
    "            dw2 = l1.T.dot(2*(y - l2) * sigmoid_derivative(l2))\n",
    "            dw1 = x.T.dot(numpy.dot(2*(y - l2) * sigmoid_derivative(l2), w2.T) * relu_derivative(l1))\n",
    "\n",
    "            #vitesse de descente\n",
    "            w1 += 0.005*dw1\n",
    "            w2 += 0.005*dw2\n",
    "            \n",
    "        #validation du modèle\n",
    "        l1 = sigmoid(X_test.dot(w1))\n",
    "        l2 = sigmoid(l1.dot(w2))\n",
    "        error = abs(yy-classif(l2))\n",
    "        print(\"Error : \", numpy.mean(error), \" nbr epochs : \", nbr_epochs, \" nbr_neurones : \", nbr_neurones)\n",
    "        \n",
    "        #Plotting the results : \n",
    "        L_nbr_epochs.append(nbr_epochs)\n",
    "        L_Error.append(numpy.mean(error))\n",
    "    \n",
    "    #Plot pour chaque nbr_neurones : \n",
    "    plt.plot(L_nbr_epochs, L_Error)\n",
    "    plt.xlabel(\"Number of epochs\")\n",
    "    plt.ylabel(\"Error\")\n",
    "    plt.title(\"Influence of the number of epochs for %ineurones in the hidden layer\" %nbr_neurones)\n",
    "    plt.show()"
   ]
  },
  {
   "cell_type": "markdown",
   "metadata": {},
   "source": [
    "## Test with several layers : "
   ]
  },
  {
   "cell_type": "markdown",
   "metadata": {},
   "source": [
    "* ### Definition for the others layers :"
   ]
  },
  {
   "cell_type": "code",
   "execution_count": null,
   "metadata": {
    "collapsed": true
   },
   "outputs": [],
   "source": [
    "x=X_train\n",
    "n1,n2=x.shape\n",
    "binarizer_ = LabelBinarizer().fit(y_train)\n",
    "y = binarizer_.transform(y_train)\n",
    "yy = binarizer_.transform(y_test)\n",
    "\n",
    "\n",
    "\n",
    "#nombre de couches\n",
    "nl = 4\n",
    "\n",
    "#vitesse de descente\n",
    "v = 0.001\n",
    "\n",
    "#nn neurones dans la couche cachée, n2 features\n",
    "nn = 50\n",
    "\n",
    "wi = numpy.random.randn(n2,nn)\n",
    "wf = numpy.random.randn(nn,1)\n",
    "dwi = numpy.random.randn(n2,nn)\n",
    "dwf = numpy.random.randn(nn,1)\n",
    "\n",
    "if (nl>2):\n",
    "    dw = numpy.random.randn(nl-2,nn,nn)\n",
    "    w = numpy.random.randn(nl-2,nn,nn)\n",
    "    l = numpy.random.randn(nl-2,n1,nn)\n",
    "    delta = numpy.random.randn(nl-2,n1,nn)"
   ]
  },
  {
   "cell_type": "markdown",
   "metadata": {},
   "source": [
    "* ### Training : "
   ]
  },
  {
   "cell_type": "code",
   "execution_count": null,
   "metadata": {
    "collapsed": true
   },
   "outputs": [],
   "source": [
    "#nombre epochs\n",
    "for k in range(500):\n",
    "\n",
    "\n",
    "            li = sigmoid(x.dot(wi))\n",
    "\n",
    "            if (nl>2):\n",
    "                l[0] = sigmoid(li.dot(w[0]))\n",
    "                for i in range(nl-4):\n",
    "\n",
    "                    l[i+1]=sigmoid(l[i].dot(w[i+1]))\n",
    "\n",
    "                lf = sigmoid(l[nl-3].dot(wf))\n",
    "                deltaf = 2*(y - lf)\n",
    "                dwf = l[nl-3].T.dot(2*(y - lf) * sigmoid_derivative(lf))\n",
    "                delta[nl-3] = (deltaf * sigmoid_derivative(lf)).dot(wf.T)\n",
    "\n",
    "                if(nl>3):\n",
    "                    dw[nl-3] = l[nl-4].T.dot(delta[nl-3]*sigmoid_derivative(l[nl-3]))\n",
    "\n",
    "                    for i in range(nl-4):\n",
    "\n",
    "                        delta[nl-i-4] = (delta[nl-i-3] * sigmoid_derivative(l[nl-i-3])).dot(w[nl-i-3].T)\n",
    "                        dw[nl-i-4] = l[nl-i-5].T.dot(delta[nl-i-4]* sigmoid_derivative(l[nl-i-4]))\n",
    "                        w[nl-i-4] += v*dw[nl-i-4]\n",
    "\n",
    "                    delta[0] = (delta[1] * sigmoid_derivative(l[1])).dot(w[1].T)\n",
    "\n",
    "                dw[0] = li.T.dot(delta[0]* sigmoid_derivative(l[0]))\n",
    "                dwi = x.T.dot((delta[0] * sigmoid_derivative(l[0])).dot(w[0].T)*sigmoid_derivative(li))\n",
    "                w[nl-3] += v*dw[nl-3]\n",
    "                w[0] += v*dw[0]\n",
    "            else:\n",
    "                lf = sigmoid(li.dot(wf))\n",
    "                dwf = li.T.dot(2*(y - lf) * sigmoid_derivative(lf))\n",
    "                dwi = x.T.dot(numpy.dot(2*(y - lf) * sigmoid_derivative(lf), wf.T) * sigmoid_derivative(li))\n",
    "\n",
    "            wi += v*dwi\n",
    "            wf += v*dwf\n"
   ]
  },
  {
   "cell_type": "markdown",
   "metadata": {},
   "source": [
    "* ### Validation of the model: "
   ]
  },
  {
   "cell_type": "code",
   "execution_count": null,
   "metadata": {
    "collapsed": true
   },
   "outputs": [],
   "source": [
    "#validation du modèle\n",
    "if(nl>2):\n",
    "    l = numpy.random.randn(nl-2,5000,nn)\n",
    "    li = sigmoid(X_test2.dot(wi))\n",
    "    l[0] = sigmoid(li.dot(w[0]))\n",
    "    for i in range(nl-4):\n",
    "        l[i+1]=sigmoid(l[i].dot(w[i+1]))\n",
    "\n",
    "    lf = sigmoid(l[nl-3].dot(wf))\n",
    "\n",
    "else:\n",
    "    li = sigmoid(X_test2.dot(wi))\n",
    "    lf = sigmoid(li.dot(wf))\n",
    "\n",
    "error = abs(yy-classif(lf))\n",
    "print(numpy.mean(error))"
   ]
  },
  {
   "cell_type": "markdown",
   "metadata": {},
   "source": [
    "# Demonstration : "
   ]
  },
  {
   "cell_type": "markdown",
   "metadata": {},
   "source": [
    "* ### Reading the demo test : "
   ]
  },
  {
   "cell_type": "code",
   "execution_count": 16,
   "metadata": {
    "collapsed": true
   },
   "outputs": [],
   "source": [
    "reviews_demo_test = []\n",
    "for line in open('movie_data/demo_test.txt', 'r', encoding=\"utf8\"):\n",
    "    reviews_demo_test.append(line.strip())"
   ]
  },
  {
   "cell_type": "markdown",
   "metadata": {},
   "source": [
    "* ### Printing the demo_test reviews : "
   ]
  },
  {
   "cell_type": "code",
   "execution_count": 17,
   "metadata": {},
   "outputs": [
    {
     "name": "stdout",
     "output_type": "stream",
     "text": [
      "['\\ufeffThe movie is bad', 'The movie is good']\n"
     ]
    }
   ],
   "source": [
    "print(reviews_demo_test)"
   ]
  },
  {
   "cell_type": "markdown",
   "metadata": {},
   "source": [
    "* ### Removing unwanted characters : "
   ]
  },
  {
   "cell_type": "code",
   "execution_count": 18,
   "metadata": {
    "collapsed": true
   },
   "outputs": [],
   "source": [
    "REPLACE_NO_SPACE = re.compile(\"(\\.)|(\\;)|(\\:)|(\\!)|(\\')|(\\?)|(\\,)|(\\\")|(\\()|(\\))|(\\[)|(\\])|(\\d+)\")\n",
    "REPLACE_WITH_SPACE = re.compile(\"(<br\\s*/><br\\s*/>)|(\\-)|(\\/)\")\n",
    "NO_SPACE = \"\"\n",
    "SPACE = \" \"\n",
    "\n",
    "def preprocess_reviews(reviews):\n",
    "    \n",
    "    reviews = [REPLACE_NO_SPACE.sub(NO_SPACE, line.lower()) for line in reviews]\n",
    "    reviews = [REPLACE_WITH_SPACE.sub(SPACE, line) for line in reviews]\n",
    "    \n",
    "    return reviews\n",
    "\n",
    "reviews_demo_test_clean = preprocess_reviews(reviews_demo_test)"
   ]
  },
  {
   "cell_type": "markdown",
   "metadata": {},
   "source": [
    "* ### Printing the demo_test reviews after cleaning : "
   ]
  },
  {
   "cell_type": "code",
   "execution_count": 19,
   "metadata": {},
   "outputs": [
    {
     "name": "stdout",
     "output_type": "stream",
     "text": [
      "﻿the movie is bad\n"
     ]
    }
   ],
   "source": [
    "print(reviews_demo_test_clean[0])"
   ]
  },
  {
   "cell_type": "markdown",
   "metadata": {},
   "source": [
    "* ### Vectorizing the demo_test : "
   ]
  },
  {
   "cell_type": "code",
   "execution_count": 20,
   "metadata": {
    "collapsed": true
   },
   "outputs": [],
   "source": [
    "X_demo_test = cv.transform(reviews_demo_test_clean)"
   ]
  },
  {
   "cell_type": "markdown",
   "metadata": {},
   "source": [
    "* ### Function to assert if a review is positive or negative"
   ]
  },
  {
   "cell_type": "code",
   "execution_count": 21,
   "metadata": {
    "collapsed": true
   },
   "outputs": [],
   "source": [
    "def NegPos(x):\n",
    "    x=classif(x)\n",
    "    if x==0 :\n",
    "        return 'Negative review'\n",
    "    else : \n",
    "        return 'Positive review'"
   ]
  },
  {
   "cell_type": "markdown",
   "metadata": {},
   "source": [
    "* ### Training : "
   ]
  },
  {
   "cell_type": "markdown",
   "metadata": {},
   "source": [
    "Parameters : "
   ]
  },
  {
   "cell_type": "code",
   "execution_count": 22,
   "metadata": {
    "collapsed": true
   },
   "outputs": [],
   "source": [
    "final_nbr_neurones = 100\n",
    "final_nbr_epochs = 200"
   ]
  },
  {
   "cell_type": "code",
   "execution_count": 23,
   "metadata": {
    "collapsed": true
   },
   "outputs": [],
   "source": [
    "x=X_train\n",
    "n1,n2=x.shape\n",
    "binarizer_ = LabelBinarizer().fit(y_train)\n",
    "y = binarizer_.transform(y_train)\n",
    "\n",
    "#100 neurones dans la couche cachée, n2 features\n",
    "w1 = numpy.random.randn(n2,final_nbr_neurones)\n",
    "w2 = numpy.random.randn(final_nbr_neurones,1)\n",
    "dw1 = numpy.random.randn(n2,final_nbr_neurones)\n",
    "dw2 = numpy.random.randn(final_nbr_neurones,1)\n",
    "l2 = 0\n",
    "\n",
    "#nombre epochs\n",
    "for k in range(final_nbr_epochs):\n",
    "\n",
    "            #feedforward pour les couches l1 et l2 (relu l1 et sigmoid l2)\n",
    "            l1 = relu(x.dot(w1))\n",
    "            l2 = sigmoid(l1.dot(w2))\n",
    "\n",
    "\n",
    "            #backprop\n",
    "            dw2 = l1.T.dot(2*(y - l2) * sigmoid_derivative(l2))\n",
    "            dw1 = x.T.dot(numpy.dot(2*(y - l2) * sigmoid_derivative(l2), w2.T) * relu_derivative(l1))\n",
    "\n",
    "            #vitesse de descente\n",
    "            w1 += 0.005*dw1\n",
    "            w2 += 0.005*dw2"
   ]
  },
  {
   "cell_type": "markdown",
   "metadata": {},
   "source": [
    "* ### Prediction"
   ]
  },
  {
   "cell_type": "code",
   "execution_count": 24,
   "metadata": {},
   "outputs": [
    {
     "name": "stdout",
     "output_type": "stream",
     "text": [
      "the review number 1 is a Negative review\n",
      "the review number 2 is a Positive review\n"
     ]
    }
   ],
   "source": [
    "l1 = sigmoid(X_demo_test.dot(w1))\n",
    "l2 = sigmoid(l1.dot(w2))\n",
    "\n",
    "for i in range (len(reviews_demo_test_clean)):\n",
    "    print ('the review number', i+1, 'is a', NegPos(l2[i]))"
   ]
  }
 ],
 "metadata": {
  "kernelspec": {
   "display_name": "Python 3",
   "language": "python",
   "name": "python3"
  },
  "language_info": {
   "codemirror_mode": {
    "name": "ipython",
    "version": 3
   },
   "file_extension": ".py",
   "mimetype": "text/x-python",
   "name": "python",
   "nbconvert_exporter": "python",
   "pygments_lexer": "ipython3",
   "version": "3.6.3"
  }
 },
 "nbformat": 4,
 "nbformat_minor": 2
}
